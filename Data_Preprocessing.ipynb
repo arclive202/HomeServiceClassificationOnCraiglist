{
 "cells": [
  {
   "cell_type": "code",
   "execution_count": 1,
   "id": "f660c9f9",
   "metadata": {},
   "outputs": [
    {
     "data": {
      "text/html": [
       "<div>\n",
       "<style scoped>\n",
       "    .dataframe tbody tr th:only-of-type {\n",
       "        vertical-align: middle;\n",
       "    }\n",
       "\n",
       "    .dataframe tbody tr th {\n",
       "        vertical-align: top;\n",
       "    }\n",
       "\n",
       "    .dataframe thead th {\n",
       "        text-align: right;\n",
       "    }\n",
       "</style>\n",
       "<table border=\"1\" class=\"dataframe\">\n",
       "  <thead>\n",
       "    <tr style=\"text-align: right;\">\n",
       "      <th></th>\n",
       "      <th>Unnamed: 0</th>\n",
       "      <th>S.No</th>\n",
       "      <th>URL</th>\n",
       "      <th>Title</th>\n",
       "      <th>Description</th>\n",
       "      <th>Class</th>\n",
       "    </tr>\n",
       "  </thead>\n",
       "  <tbody>\n",
       "    <tr>\n",
       "      <th>0</th>\n",
       "      <td>0</td>\n",
       "      <td>0</td>\n",
       "      <td>https://newyork.craigslist.org/brk/hss/d/brook...</td>\n",
       "      <td>FREE inspection Real 18month GUARANTEE extermi...</td>\n",
       "      <td>Licensed exterminator here for you.  Free in h...</td>\n",
       "      <td>Exterminator</td>\n",
       "    </tr>\n",
       "    <tr>\n",
       "      <th>1</th>\n",
       "      <td>1</td>\n",
       "      <td>1</td>\n",
       "      <td>https://newyork.craigslist.org/lgi/hss/d/west-...</td>\n",
       "      <td>Home Improvements, Repairs and Renovations</td>\n",
       "      <td>Complete home repairs and renovations. No job ...</td>\n",
       "      <td>Handyman &amp; General Services</td>\n",
       "    </tr>\n",
       "    <tr>\n",
       "      <th>2</th>\n",
       "      <td>2</td>\n",
       "      <td>2</td>\n",
       "      <td>https://newyork.craigslist.org/fct/hss/d/trumb...</td>\n",
       "      <td>PAINTERS ( M Grace Painting &amp; Remodeling ) (Tr...</td>\n",
       "      <td>I am professional, reliable and love what I do...</td>\n",
       "      <td>Painting &amp; Wall paper</td>\n",
       "    </tr>\n",
       "    <tr>\n",
       "      <th>3</th>\n",
       "      <td>3</td>\n",
       "      <td>3</td>\n",
       "      <td>https://newyork.craigslist.org/fct/hss/d/stamf...</td>\n",
       "      <td>PAINTERS ( M Grace Painting &amp; Remodeling ) (St...</td>\n",
       "      <td>Do you have a room you want to Paint? ', '', '...</td>\n",
       "      <td>Painting &amp; Wall paper</td>\n",
       "    </tr>\n",
       "    <tr>\n",
       "      <th>4</th>\n",
       "      <td>4</td>\n",
       "      <td>4</td>\n",
       "      <td>https://newyork.craigslist.org/lgi/hss/d/swing...</td>\n",
       "      <td>Swing Sets Installations!We install your Plays...</td>\n",
       "      <td>Get your swing set install today!', 'Why keep ...</td>\n",
       "      <td>Installation, Repairs &amp; Rennovation</td>\n",
       "    </tr>\n",
       "  </tbody>\n",
       "</table>\n",
       "</div>"
      ],
      "text/plain": [
       "   Unnamed: 0  S.No                                                URL  \\\n",
       "0           0     0  https://newyork.craigslist.org/brk/hss/d/brook...   \n",
       "1           1     1  https://newyork.craigslist.org/lgi/hss/d/west-...   \n",
       "2           2     2  https://newyork.craigslist.org/fct/hss/d/trumb...   \n",
       "3           3     3  https://newyork.craigslist.org/fct/hss/d/stamf...   \n",
       "4           4     4  https://newyork.craigslist.org/lgi/hss/d/swing...   \n",
       "\n",
       "                                               Title  \\\n",
       "0  FREE inspection Real 18month GUARANTEE extermi...   \n",
       "1         Home Improvements, Repairs and Renovations   \n",
       "2  PAINTERS ( M Grace Painting & Remodeling ) (Tr...   \n",
       "3  PAINTERS ( M Grace Painting & Remodeling ) (St...   \n",
       "4  Swing Sets Installations!We install your Plays...   \n",
       "\n",
       "                                         Description  \\\n",
       "0  Licensed exterminator here for you.  Free in h...   \n",
       "1  Complete home repairs and renovations. No job ...   \n",
       "2  I am professional, reliable and love what I do...   \n",
       "3  Do you have a room you want to Paint? ', '', '...   \n",
       "4  Get your swing set install today!', 'Why keep ...   \n",
       "\n",
       "                                 Class  \n",
       "0                         Exterminator  \n",
       "1          Handyman & General Services  \n",
       "2                Painting & Wall paper  \n",
       "3                Painting & Wall paper  \n",
       "4  Installation, Repairs & Rennovation  "
      ]
     },
     "execution_count": 1,
     "metadata": {},
     "output_type": "execute_result"
    }
   ],
   "source": [
    "#importing pandas and reading the Data CSV file that needs to be preprocessed.\n",
    "import pandas as pd\n",
    "\n",
    "adlist= pd.read_csv('Final.csv')\n",
    "adlist.head()"
   ]
  },
  {
   "cell_type": "code",
   "execution_count": 2,
   "id": "9c9c757e",
   "metadata": {},
   "outputs": [
    {
     "data": {
      "text/html": [
       "<div>\n",
       "<style scoped>\n",
       "    .dataframe tbody tr th:only-of-type {\n",
       "        vertical-align: middle;\n",
       "    }\n",
       "\n",
       "    .dataframe tbody tr th {\n",
       "        vertical-align: top;\n",
       "    }\n",
       "\n",
       "    .dataframe thead th {\n",
       "        text-align: right;\n",
       "    }\n",
       "</style>\n",
       "<table border=\"1\" class=\"dataframe\">\n",
       "  <thead>\n",
       "    <tr style=\"text-align: right;\">\n",
       "      <th></th>\n",
       "      <th>Unnamed: 0</th>\n",
       "      <th>S.No</th>\n",
       "    </tr>\n",
       "  </thead>\n",
       "  <tbody>\n",
       "    <tr>\n",
       "      <th>count</th>\n",
       "      <td>885.000000</td>\n",
       "      <td>885.000000</td>\n",
       "    </tr>\n",
       "    <tr>\n",
       "      <th>mean</th>\n",
       "      <td>442.000000</td>\n",
       "      <td>442.000000</td>\n",
       "    </tr>\n",
       "    <tr>\n",
       "      <th>std</th>\n",
       "      <td>255.621791</td>\n",
       "      <td>255.621791</td>\n",
       "    </tr>\n",
       "    <tr>\n",
       "      <th>min</th>\n",
       "      <td>0.000000</td>\n",
       "      <td>0.000000</td>\n",
       "    </tr>\n",
       "    <tr>\n",
       "      <th>25%</th>\n",
       "      <td>221.000000</td>\n",
       "      <td>221.000000</td>\n",
       "    </tr>\n",
       "    <tr>\n",
       "      <th>50%</th>\n",
       "      <td>442.000000</td>\n",
       "      <td>442.000000</td>\n",
       "    </tr>\n",
       "    <tr>\n",
       "      <th>75%</th>\n",
       "      <td>663.000000</td>\n",
       "      <td>663.000000</td>\n",
       "    </tr>\n",
       "    <tr>\n",
       "      <th>max</th>\n",
       "      <td>884.000000</td>\n",
       "      <td>884.000000</td>\n",
       "    </tr>\n",
       "  </tbody>\n",
       "</table>\n",
       "</div>"
      ],
      "text/plain": [
       "       Unnamed: 0        S.No\n",
       "count  885.000000  885.000000\n",
       "mean   442.000000  442.000000\n",
       "std    255.621791  255.621791\n",
       "min      0.000000    0.000000\n",
       "25%    221.000000  221.000000\n",
       "50%    442.000000  442.000000\n",
       "75%    663.000000  663.000000\n",
       "max    884.000000  884.000000"
      ]
     },
     "execution_count": 2,
     "metadata": {},
     "output_type": "execute_result"
    }
   ],
   "source": [
    "#checking the description of the data stored in the dataframe adlist\n",
    "adlist.describe()"
   ]
  },
  {
   "cell_type": "code",
   "execution_count": 3,
   "id": "dec93e19",
   "metadata": {},
   "outputs": [
    {
     "data": {
      "text/plain": [
       "Housekeeping and Cleaning              412\n",
       "Handyman & General Services            119\n",
       "Installation, Repairs & Rennovation     99\n",
       "Others                                  76\n",
       "Painting & Wall paper                   54\n",
       "Caretaker/Personal Assisitant           47\n",
       "Flooring                                37\n",
       "Exterminator                            21\n",
       "Movers and Packers                      20\n",
       "Name: Class, dtype: int64"
      ]
     },
     "execution_count": 3,
     "metadata": {},
     "output_type": "execute_result"
    }
   ],
   "source": [
    "#observing the counts (occurrence) of each of the values under the column Class \n",
    "#Each entry is manually labelled against each of the house service listings\n",
    "adlist.Class.value_counts()"
   ]
  },
  {
   "cell_type": "code",
   "execution_count": 4,
   "id": "1016b625",
   "metadata": {},
   "outputs": [
    {
     "name": "stdout",
     "output_type": "stream",
     "text": [
      "count                                                   885\n",
      "unique                                                  803\n",
      "top       Ã°Å¸ÂÂ¡Ã¢â„¢Â¥Ã¯Â¸ÂHOME APARTMENT CLEANING S...\n",
      "freq                                                      9\n",
      "Name: Title, dtype: object\n",
      "\n",
      "\n",
      "count                                                   885\n",
      "unique                                                  753\n",
      "top       \"Ã°Å¸Å’Â¹Queenie's House Cleaning ServiceÃ°Å¸Å...\n",
      "freq                                                     23\n",
      "Name: Description, dtype: object\n"
     ]
    }
   ],
   "source": [
    "#checking the description of the data stored in the Title and Description columns of the dataframe.\n",
    "print(adlist[\"Title\"].describe())\n",
    "print(\"\\n\")\n",
    "print(adlist[\"Description\"].describe())"
   ]
  },
  {
   "cell_type": "code",
   "execution_count": 5,
   "id": "968d0ae0",
   "metadata": {},
   "outputs": [
    {
     "name": "stdout",
     "output_type": "stream",
     "text": [
      "count                                                   885\n",
      "unique                                                  885\n",
      "top       $100 cleaning special (Midtown) Cleaning servi...\n",
      "freq                                                      1\n",
      "Name: FullListing, dtype: object\n"
     ]
    }
   ],
   "source": [
    "#no NaN values from previous observation. Creating a new column that appends Title and Description of a listing \n",
    "#and saves it under the fulllisting column\n",
    "adlist[\"FullListing\"] = adlist[\"Title\"]+\" \"+adlist[\"Description\"]\n",
    "print(adlist[\"FullListing\"].describe())"
   ]
  },
  {
   "cell_type": "code",
   "execution_count": 6,
   "id": "1d281157",
   "metadata": {},
   "outputs": [],
   "source": [
    "#importing nltk packages for tokenization and removal of stopwords\n",
    "import nltk\n",
    "from nltk.tokenize import word_tokenize\n",
    "from nltk.corpus import stopwords\n",
    "tokens = []\n",
    "# saving the fullListing column of the dataframe into a list.\n",
    "adlistings = adlist[\"FullListing\"].tolist()"
   ]
  },
  {
   "cell_type": "code",
   "execution_count": 7,
   "id": "0beb34c3",
   "metadata": {},
   "outputs": [],
   "source": [
    "import re\n",
    "stop_word = stopwords.words(\"english\")\n",
    "#extending the list of stopwords with redundant words which hold no meaning in addition to stopwords in nltk.corpus\n",
    "stop_word.extend([\"free\",\"has\",\"was\",\"quot\",\"gt\",\"etc\",\"si\",\"li\",\"ul\",\"ol\",\"de\",\"por\",\"en\",\"la\", \"wo\"])\n",
    "\n",
    "for r in adlistings:\n",
    "    filtered = []\n",
    "    #using a regular expression to replace all non alphanumeric characters with a single whitespace\n",
    "    r = re.sub(\"[^a-zA-Z0-9]\",\" \",r)\n",
    "    r=r.lower()\n",
    "    r = word_tokenize(r)   #tokenizing each of the words in the review r\n",
    "    for w in r:\n",
    "        if w not in stop_word:    \n",
    "            filtered.append(w)   #appending all the non-stopwords to a filtered list of words.\n",
    "    tokens.append(filtered)   #tokens is a list of all the tokenized listings"
   ]
  },
  {
   "cell_type": "code",
   "execution_count": 8,
   "id": "25ff7338",
   "metadata": {},
   "outputs": [],
   "source": [
    "#lemmatizing all the tokenized listings\n",
    "lemmatizer = nltk.stem.WordNetLemmatizer()\n",
    "lemmatized_listing = []\n",
    "for eachtoken in tokens:\n",
    "    lemmatized_listing.append([lemmatizer.lemmatize(token) for token in eachtoken])"
   ]
  },
  {
   "cell_type": "code",
   "execution_count": 9,
   "id": "8acd1f41",
   "metadata": {},
   "outputs": [],
   "source": [
    "#stemming all the tokenized listings after they have been lemmatized\n",
    "from nltk.stem import PorterStemmer\n",
    "ps = PorterStemmer()\n",
    "stemmed_listings = []\n",
    "\n",
    "for eachlisting in lemmatized_listing:\n",
    "    filtered = []\n",
    "    for w in eachlisting:\n",
    "        filtered.append(ps.stem(w))\n",
    "    stemmed_listings.append(filtered)\n",
    "\n"
   ]
  },
  {
   "cell_type": "code",
   "execution_count": 10,
   "id": "fc92e2d8",
   "metadata": {},
   "outputs": [],
   "source": [
    "#creating a new list to hold the detokenized form of the adlistings which is ready to be vectorized.\n",
    "newlist = []\n",
    "for toks in stemmed_listings:\n",
    "    newlist.append(\" \".join(toks))"
   ]
  },
  {
   "cell_type": "code",
   "execution_count": 12,
   "id": "822e5f6a",
   "metadata": {},
   "outputs": [],
   "source": [
    "#dropping the FullListings column from the dataframe as the data is no longer required.\n",
    "adlist.drop('FullListing',axis=1,inplace=True)\n",
    "#storing the processed data into the ProcessedListings Column which along with the Class column can be trained by the classification model.\n",
    "adlist[\"ProcessedListings\"] = newlist\n",
    "#saving the final processed details into the CSV.\n",
    "adlist.to_csv('Final_Processed.csv')"
   ]
  }
 ],
 "metadata": {
  "kernelspec": {
   "display_name": "Python 3",
   "language": "python",
   "name": "python3"
  },
  "language_info": {
   "codemirror_mode": {
    "name": "ipython",
    "version": 3
   },
   "file_extension": ".py",
   "mimetype": "text/x-python",
   "name": "python",
   "nbconvert_exporter": "python",
   "pygments_lexer": "ipython3",
   "version": "3.8.8"
  }
 },
 "nbformat": 4,
 "nbformat_minor": 5
}
